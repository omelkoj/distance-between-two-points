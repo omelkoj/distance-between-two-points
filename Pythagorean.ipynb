{
 "cells": [
  {
   "cell_type": "code",
   "execution_count": 2,
   "metadata": {},
   "outputs": [
    {
     "name": "stdout",
     "output_type": "stream",
     "text": [
      "86.052\n"
     ]
    }
   ],
   "source": [
    "#Write a function that takes in 2 points (2 tuples) on a coordinate axes, so (x, y). This function should then return the distance between them. #Hint: Think of the pythagorean theorem a^2 + b^2 = c^2.\n",
    "\n",
    "\n",
    "import math\n",
    "\n",
    "\n",
    "def distance(coordinate1, coordinate2):\n",
    "    coordinates = math.sqrt((math.pow((coordinate1[0] - coordinate2[0]), 2)) + (math.pow((coordinate1[1] - coordinate2[1]), 2)))\n",
    "    return coordinates\n",
    "print(round(distance([23, 1], [20, 87]), 3))\n"
   ]
  }
 ],
 "metadata": {
  "interpreter": {
   "hash": "aee8b7b246df8f9039afb4144a1f6fd8d2ca17a180786b69acc140d282b71a49"
  },
  "kernelspec": {
   "display_name": "Python 3.9.10 64-bit",
   "language": "python",
   "name": "python3"
  },
  "language_info": {
   "codemirror_mode": {
    "name": "ipython",
    "version": 3
   },
   "file_extension": ".py",
   "mimetype": "text/x-python",
   "name": "python",
   "nbconvert_exporter": "python",
   "pygments_lexer": "ipython3",
   "version": "3.9.10"
  },
  "orig_nbformat": 4
 },
 "nbformat": 4,
 "nbformat_minor": 2
}
